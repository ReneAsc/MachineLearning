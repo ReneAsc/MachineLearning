{
 "cells": [
  {
   "cell_type": "markdown",
   "id": "19343770",
   "metadata": {},
   "source": [
    "# Inicio\n",
    "    This notebook is intended to practice some theory from the book Artificial Intelligence with Python by Teik Toe Teoh and Zheng Rong. The objective from this exercise is to perform a simple linear regression. In what follows I decided to explain in spanish. I think I always will write introductions in english, and the description of the code in spanish or english, depending on my mood."
   ]
  },
  {
   "cell_type": "markdown",
   "id": "bb003d5a",
   "metadata": {},
   "source": [
    " Primero vamos a importar las librerias que utilizaremos."
   ]
  },
  {
   "cell_type": "code",
   "execution_count": 2,
   "id": "0d167028",
   "metadata": {},
   "outputs": [],
   "source": [
    "from sklearn.model_selection import train_test_split\n",
    "from sklearn.metrics import mean_squared_error\n",
    "from sklearn import linear_model\n",
    "import pandas as pd\n",
    "import numpy as np"
   ]
  },
  {
   "cell_type": "markdown",
   "id": "63dd894e",
   "metadata": {},
   "source": [
    "Ahora importamos los datos y visualizamos los primeros 5 renglones"
   ]
  },
  {
   "cell_type": "code",
   "execution_count": 7,
   "id": "898eeb07",
   "metadata": {},
   "outputs": [
    {
     "name": "stdout",
     "output_type": "stream",
     "text": [
      "    A     B     C     D     E     F\n",
      "0  24  0.42  0.16  0.59  0.81  0.08\n",
      "1  19  0.49  0.04  0.37  0.69  0.11\n",
      "2  18  0.24  0.17  0.66  0.87  0.31\n",
      "3   8  0.74  0.00  0.81  0.88  0.11\n",
      "4   8  0.95  0.00  0.86  0.92  0.28\n",
      "          A         B         C         D         E         F\n",
      "A  1.000000 -0.691900  0.414978 -0.604574 -0.521985 -0.549244\n",
      "B -0.691900  1.000000 -0.581516  0.487248  0.376735  0.540427\n",
      "C  0.414978 -0.581516  1.000000  0.017023  0.055766 -0.175102\n",
      "D -0.604574  0.487248  0.017023  1.000000  0.934396  0.681660\n",
      "E -0.521985  0.376735  0.055766  0.934396  1.000000  0.647625\n",
      "F -0.549244  0.540427 -0.175102  0.681660  0.647625  1.000000\n"
     ]
    }
   ],
   "source": [
    "datos = pd.read_csv('Alumni.csv')\n",
    "print(datos.head())\n",
    "corr=datos.corr(method ='pearson')\n",
    "print(corr)"
   ]
  },
  {
   "cell_type": "markdown",
   "id": "fb1cfd11",
   "metadata": {},
   "source": [
    "La variable $F$ tiene buenos índices de correlación con el resto, por tanto vamos haremos una regresión lineal para tratar de predecirla en términos del resto de las variables. Aunque las columnas tienen por nombre una sola letra, el siguiente código puede ser reutilizado."
   ]
  },
  {
   "cell_type": "code",
   "execution_count": 17,
   "id": "573ee4bc",
   "metadata": {},
   "outputs": [
    {
     "name": "stdout",
     "output_type": "stream",
     "text": [
      "Modelo de Regresión\n",
      "================================\n",
      "Error cuadrado medio para los datos de entrenamiento 0.002761693322289229\n",
      "Regression Test set: RMSE 0.00420982402635638\n",
      "================================\n",
      "{'A': -0.0009337757382416941, 'B': 0.16012156890162954, 'C': -0.0441600154253495, 'D': 0.15217907817100404, 'E': 0.17539950794101034}\n"
     ]
    }
   ],
   "source": [
    "Y_var = 5\n",
    "# Hacemos una lista con los nombres del resto de las columnas\n",
    "model_features = [i for i in range(0,Y_var)]\n",
    "# separamos las variables\n",
    "X = datos.iloc[:,model_features]\n",
    "Y = datos.iloc[:,Y_var]\n",
    "X_train, X_test, y_train, y_test = train_test_split(X, Y, test_size=0.20, random_state=2020)\n",
    "#creamos el modelo o regresion\n",
    "model = linear_model.LinearRegression()\n",
    "#ajustamos o entrenamos el modelo\n",
    "model.fit(X_train, y_train)\n",
    "y_pred_train1 = model.predict(X_train)\n",
    "print(\"Modelo de Regresión\")\n",
    "print(\"================================\")\n",
    "#calculamos el error cuadrado medio para estimar qué tan bien ajusta el modelo\n",
    "RMSE_train1 = mean_squared_error(y_train,y_pred_train1)\n",
    "print(\"Error cuadrado medio para los datos de entrenamiento {}\".format(RMSE_train1))\n",
    "y_pred1 = model.predict(X_test)\n",
    "RMSE_test1 = mean_squared_error(y_test,y_pred1)\n",
    "print(\"Regression Test set: RMSE {}\".format(RMSE_test1))\n",
    "print(\"================================\")\n",
    "#Imprimimos los coeficientes\n",
    "coef_dict = {}\n",
    "for coef, feat in zip(model.coef_,model_features):\n",
    "    coef_dict[datos.columns[feat]] = coef\n",
    "print(coef_dict)"
   ]
  },
  {
   "cell_type": "code",
   "execution_count": null,
   "id": "9b557233",
   "metadata": {},
   "outputs": [],
   "source": []
  }
 ],
 "metadata": {
  "kernelspec": {
   "display_name": "Python 3 (ipykernel)",
   "language": "python",
   "name": "python3"
  },
  "language_info": {
   "codemirror_mode": {
    "name": "ipython",
    "version": 3
   },
   "file_extension": ".py",
   "mimetype": "text/x-python",
   "name": "python",
   "nbconvert_exporter": "python",
   "pygments_lexer": "ipython3",
   "version": "3.8.10"
  },
  "widgets": {
   "application/vnd.jupyter.widget-state+json": {
    "state": {},
    "version_major": 2,
    "version_minor": 0
   }
  }
 },
 "nbformat": 4,
 "nbformat_minor": 5
}
